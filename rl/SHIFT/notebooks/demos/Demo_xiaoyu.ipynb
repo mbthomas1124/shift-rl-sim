{
 "cells": [
  {
   "cell_type": "code",
   "execution_count": 1,
   "metadata": {},
   "outputs": [],
   "source": [
    "import shift"
   ]
  },
  {
   "cell_type": "code",
   "execution_count": 2,
   "metadata": {},
   "outputs": [],
   "source": [
    "trader = shift.Trader(\"test002\")"
   ]
  },
  {
   "cell_type": "code",
   "execution_count": 3,
   "metadata": {},
   "outputs": [
    {
     "data": {
      "text/plain": [
       "True"
      ]
     },
     "execution_count": 3,
     "metadata": {},
     "output_type": "execute_result"
    }
   ],
   "source": [
    "trader.connect(\"initiator.cfg\", \"password\")"
   ]
  },
  {
   "cell_type": "code",
   "execution_count": null,
   "metadata": {},
   "outputs": [],
   "source": []
  },
  {
   "cell_type": "code",
   "execution_count": 5,
   "metadata": {},
   "outputs": [],
   "source": [
    "limitBuy = shift.Order(shift.Order.LIMIT_BUY, \"AAPL\", 1, 171.20)\n",
    "trader.submitOrder(limitBuy)"
   ]
  },
  {
   "cell_type": "code",
   "execution_count": 6,
   "metadata": {},
   "outputs": [
    {
     "name": "stdout",
     "output_type": "stream",
     "text": [
      "   965993.00\n"
     ]
    }
   ],
   "source": [
    "print(\"%12.2f\" % trader.getPortfolioSummary().getTotalBP())"
   ]
  },
  {
   "cell_type": "code",
   "execution_count": 7,
   "metadata": {},
   "outputs": [
    {
     "name": "stdout",
     "output_type": "stream",
     "text": [
      "AAPL\n"
     ]
    }
   ],
   "source": [
    "for i in trader.getPortfolioItems().values():\n",
    "    print(i.getSymbol())"
   ]
  },
  {
   "cell_type": "code",
   "execution_count": 8,
   "metadata": {},
   "outputs": [
    {
     "data": {
      "text/plain": [
       "1"
      ]
     },
     "execution_count": 8,
     "metadata": {},
     "output_type": "execute_result"
    }
   ],
   "source": [
    "trader.getSubmittedOrdersSize()"
   ]
  },
  {
   "cell_type": "code",
   "execution_count": 9,
   "metadata": {},
   "outputs": [
    {
     "name": "stdout",
     "output_type": "stream",
     "text": [
      "AAPL OrderType.LIMIT_BUY 171.2 1 f52f6600-d63a-4e48-89e3-68a80075fc23 2019-02-20 18:56:06.708817\n"
     ]
    }
   ],
   "source": [
    "for order in trader.getSubmittedOrders():\n",
    "    print(order.symbol, order.type, order.price, order.size, order.id, order.timestamp)"
   ]
  },
  {
   "cell_type": "code",
   "execution_count": 10,
   "metadata": {},
   "outputs": [
    {
     "data": {
      "text/plain": [
       "0.0"
      ]
     },
     "execution_count": 10,
     "metadata": {},
     "output_type": "execute_result"
    }
   ],
   "source": [
    "trader.getClosePrice(\"AAPL\", True, 1)"
   ]
  },
  {
   "cell_type": "code",
   "execution_count": 11,
   "metadata": {},
   "outputs": [
    {
     "data": {
      "text/plain": [
       "0.0"
      ]
     },
     "execution_count": 11,
     "metadata": {},
     "output_type": "execute_result"
    }
   ],
   "source": [
    "bp = trader.getBestPrice(\"AAPL\")\n",
    "bp.getBidPrice()"
   ]
  },
  {
   "cell_type": "code",
   "execution_count": 12,
   "metadata": {},
   "outputs": [
    {
     "data": {
      "text/plain": [
       "0.0"
      ]
     },
     "execution_count": 12,
     "metadata": {},
     "output_type": "execute_result"
    }
   ],
   "source": [
    "bp.getAskPrice()"
   ]
  },
  {
   "cell_type": "code",
   "execution_count": 13,
   "metadata": {},
   "outputs": [],
   "source": [
    "for order in trader.getOrderBook(\"AAPL\", shift.OrderBookType.GLOBAL_ASK, 5):\n",
    "    print(order.symbol, order.size, order.destination, order.time)"
   ]
  },
  {
   "cell_type": "code",
   "execution_count": 14,
   "metadata": {},
   "outputs": [
    {
     "data": {
      "text/plain": [
       "[]"
      ]
     },
     "execution_count": 14,
     "metadata": {},
     "output_type": "execute_result"
    }
   ],
   "source": [
    "trader.getOrderBookWithDestination(\"AAPL\", shift.OrderBookType.GLOBAL_BID)"
   ]
  },
  {
   "cell_type": "code",
   "execution_count": 19,
   "metadata": {},
   "outputs": [
    {
     "data": {
      "text/plain": [
       "['AAPL',\n",
       " 'AXP',\n",
       " 'BA',\n",
       " 'CAT',\n",
       " 'CSCO',\n",
       " 'CVX',\n",
       " 'DIS',\n",
       " 'DWDP',\n",
       " 'GS',\n",
       " 'HD',\n",
       " 'IBM',\n",
       " 'INTC',\n",
       " 'JNJ',\n",
       " 'JPM',\n",
       " 'KO',\n",
       " 'MCD',\n",
       " 'MMM',\n",
       " 'MRK',\n",
       " 'MSFT',\n",
       " 'NKE',\n",
       " 'PFE',\n",
       " 'PG',\n",
       " 'TRV',\n",
       " 'UNH',\n",
       " 'UTX',\n",
       " 'V',\n",
       " 'VZ',\n",
       " 'WBA',\n",
       " 'WMT',\n",
       " 'XOM']"
      ]
     },
     "execution_count": 19,
     "metadata": {},
     "output_type": "execute_result"
    }
   ],
   "source": [
    "trader.getStockList()"
   ]
  },
  {
   "cell_type": "code",
   "execution_count": 21,
   "metadata": {},
   "outputs": [],
   "source": [
    "trader.requestCompanyNames()"
   ]
  },
  {
   "cell_type": "code",
   "execution_count": 22,
   "metadata": {},
   "outputs": [
    {
     "data": {
      "text/plain": [
       "{'AAPL': 'Apple Inc.',\n",
       " 'AXP': 'American Express Company',\n",
       " 'BA': 'The Boeing Company',\n",
       " 'CAT': 'Caterpillar Inc.',\n",
       " 'CSCO': 'Cisco Systems, Inc.',\n",
       " 'CVX': 'Chevron Corporation',\n",
       " 'DIS': 'The Walt Disney Company',\n",
       " 'DWDP': 'DowDuPont Inc.',\n",
       " 'GS': 'The Goldman Sachs Group, Inc.',\n",
       " 'HD': 'The Home Depot, Inc.',\n",
       " 'IBM': 'International Business Machines Corporation',\n",
       " 'INTC': 'Intel Corporation',\n",
       " 'JNJ': 'Johnson & Johnson',\n",
       " 'JPM': 'JPMorgan Chase & Co.',\n",
       " 'KO': 'The Coca-Cola Company',\n",
       " 'MCD': \"McDonald's Corporation\",\n",
       " 'MMM': '3M Company',\n",
       " 'MRK': 'Merck & Co., Inc.',\n",
       " 'MSFT': 'Microsoft Corporation',\n",
       " 'NKE': 'NIKE, Inc.',\n",
       " 'PFE': 'Pfizer Inc.',\n",
       " 'PG': 'The Procter & Gamble Company',\n",
       " 'TRV': 'The Travelers Companies, Inc.',\n",
       " 'UNH': 'UnitedHealth Group Incorporated',\n",
       " 'UTX': 'United Technologies Corporation',\n",
       " 'V': 'Visa Inc.',\n",
       " 'VZ': 'Verizon Communications Inc.',\n",
       " 'WBA': 'Walgreens Boots Alliance, Inc.',\n",
       " 'WMT': 'Walmart Inc.',\n",
       " 'XOM': 'Exxon Mobil Corporation'}"
      ]
     },
     "execution_count": 22,
     "metadata": {},
     "output_type": "execute_result"
    }
   ],
   "source": [
    "trader.getCompanyNames()"
   ]
  },
  {
   "cell_type": "code",
   "execution_count": 18,
   "metadata": {},
   "outputs": [
    {
     "data": {
      "text/plain": [
       "True"
      ]
     },
     "execution_count": 18,
     "metadata": {},
     "output_type": "execute_result"
    }
   ],
   "source": [
    "trader.requestSamplePrices([\"AAPL\"])"
   ]
  },
  {
   "cell_type": "code",
   "execution_count": 17,
   "metadata": {},
   "outputs": [
    {
     "data": {
      "text/plain": [
       "True"
      ]
     },
     "execution_count": 17,
     "metadata": {},
     "output_type": "execute_result"
    }
   ],
   "source": [
    "trader.cancelSamplePricesRequest([\"AAPL\"])"
   ]
  },
  {
   "cell_type": "code",
   "execution_count": 23,
   "metadata": {},
   "outputs": [
    {
     "data": {
      "text/plain": [
       "[]"
      ]
     },
     "execution_count": 23,
     "metadata": {},
     "output_type": "execute_result"
    }
   ],
   "source": [
    "trader.getSamplePrices(\"AAPL\")"
   ]
  },
  {
   "cell_type": "code",
   "execution_count": 24,
   "metadata": {},
   "outputs": [
    {
     "data": {
      "text/plain": [
       "[]"
      ]
     },
     "execution_count": 24,
     "metadata": {},
     "output_type": "execute_result"
    }
   ],
   "source": [
    "trader.getLogReturns(\"AAPL\")"
   ]
  },
  {
   "cell_type": "code",
   "execution_count": 25,
   "metadata": {},
   "outputs": [
    {
     "data": {
      "text/plain": [
       "True"
      ]
     },
     "execution_count": 25,
     "metadata": {},
     "output_type": "execute_result"
    }
   ],
   "source": [
    "trader.subOrderBook(\"AAPL\")"
   ]
  },
  {
   "cell_type": "code",
   "execution_count": 34,
   "metadata": {},
   "outputs": [
    {
     "name": "stdout",
     "output_type": "stream",
     "text": [
      "19 170.85\n",
      "28 170.84\n",
      "22 170.83\n",
      "16 170.82\n",
      "50 170.81\n"
     ]
    }
   ],
   "source": [
    "for i in trader.getOrderBook(\"AAPL\", shift.OrderBookType.GLOBAL_BID, 5):\n",
    "    print(i.size, i.price)"
   ]
  },
  {
   "cell_type": "code",
   "execution_count": 31,
   "metadata": {},
   "outputs": [],
   "source": [
    "trader.cancelAllPendingOrders()"
   ]
  },
  {
   "cell_type": "code",
   "execution_count": null,
   "metadata": {},
   "outputs": [],
   "source": [
    "trader.disconnect()"
   ]
  }
 ],
 "metadata": {
  "kernelspec": {
   "display_name": "Python 3",
   "language": "python",
   "name": "python3"
  },
  "language_info": {
   "codemirror_mode": {
    "name": "ipython",
    "version": 3
   },
   "file_extension": ".py",
   "mimetype": "text/x-python",
   "name": "python",
   "nbconvert_exporter": "python",
   "pygments_lexer": "ipython3",
   "version": "3.6.7"
  }
 },
 "nbformat": 4,
 "nbformat_minor": 2
}
