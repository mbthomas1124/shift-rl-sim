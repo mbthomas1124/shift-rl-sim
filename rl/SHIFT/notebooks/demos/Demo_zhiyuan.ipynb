{
 "cells": [
  {
   "cell_type": "code",
   "execution_count": 1,
   "metadata": {},
   "outputs": [],
   "source": [
    "import shift\n",
    "from threading import Thread, Lock, Event\n",
    "import pandas as pd\n",
    "import time"
   ]
  },
  {
   "cell_type": "code",
   "execution_count": 28,
   "metadata": {},
   "outputs": [],
   "source": [
    "trader = shift.Trader(\"test002\")"
   ]
  },
  {
   "cell_type": "code",
   "execution_count": 29,
   "metadata": {},
   "outputs": [
    {
     "data": {
      "text/plain": [
       "True"
      ]
     },
     "execution_count": 29,
     "metadata": {},
     "output_type": "execute_result"
    }
   ],
   "source": [
    "trader.connect(\"initiator.cfg\", \"password\")"
   ]
  },
  {
   "cell_type": "code",
   "execution_count": 24,
   "metadata": {},
   "outputs": [
    {
     "data": {
      "text/plain": [
       "True"
      ]
     },
     "execution_count": 24,
     "metadata": {},
     "output_type": "execute_result"
    }
   ],
   "source": [
    "trader.subAllOrderBook()"
   ]
  },
  {
   "cell_type": "code",
   "execution_count": 30,
   "metadata": {},
   "outputs": [
    {
     "name": "stdout",
     "output_type": "stream",
     "text": [
      "Status.PENDING_NEW\n"
     ]
    }
   ],
   "source": [
    "order = shift.Order(shift.Order.LIMIT_BUY, 'AAPL',size = 1, price = 100)\n",
    "trader.submitOrder(order)\n",
    "order_ = trader.getOrder(order.id)\n",
    "print(order_.status)"
   ]
  },
  {
   "cell_type": "code",
   "execution_count": 37,
   "metadata": {},
   "outputs": [],
   "source": [
    "order_ = trader.getOrder('d4bcac51-0301-44ef-805a-31fb6ee80d9a')"
   ]
  },
  {
   "cell_type": "code",
   "execution_count": 17,
   "metadata": {},
   "outputs": [],
   "source": [
    "trader.submitCancellation(order_)"
   ]
  },
  {
   "cell_type": "code",
   "execution_count": 38,
   "metadata": {},
   "outputs": [
    {
     "data": {
      "text/plain": [
       "Status.???"
      ]
     },
     "execution_count": 38,
     "metadata": {},
     "output_type": "execute_result"
    }
   ],
   "source": [
    "order_.status"
   ]
  },
  {
   "cell_type": "code",
   "execution_count": 21,
   "metadata": {},
   "outputs": [
    {
     "data": {
      "text/plain": [
       "1"
      ]
     },
     "execution_count": 21,
     "metadata": {},
     "output_type": "execute_result"
    }
   ],
   "source": [
    "order_.executed_size"
   ]
  },
  {
   "cell_type": "code",
   "execution_count": null,
   "metadata": {},
   "outputs": [],
   "source": [
    "if order.type == shift.Order.LIMIT_BUY:\n",
    "    order.type = shift.Order.CANCEL_BID\n",
    "elif order.type == shift.Order.LIMIT_SELL:\n",
    "    order.type = shift.Order.CANCEL_ASK\n",
    "else:\n",
    "    raise TypeError\n",
    "\n",
    "trader.submitOrder(order)\n",
    "while trader.getWaitingListSize() > 0:\n",
    "\n",
    "    time.sleep(0.01)\n",
    "    print(trader.getWaitingListSize(), end = ' ')"
   ]
  },
  {
   "cell_type": "code",
   "execution_count": null,
   "metadata": {},
   "outputs": [],
   "source": [
    "for i in range(1000):\n",
    "    order = shift.Order(shift.Order.LIMIT_BUY, 'AAPL',5, 100)\n",
    "    trader.submitOrder(order)\n",
    "    if order.type == shift.Order.LIMIT_BUY:\n",
    "        order.type = shift.Order.CANCEL_BID\n",
    "    elif order.type == shift.Order.LIMIT_SELL:\n",
    "        order.type = shift.Order.CANCEL_ASK\n",
    "    else:\n",
    "        raise TypeError\n",
    "    time.sleep(0.5)\n",
    "    trader.submitOrder(order)\n",
    "    while trader.getWaitingListSize() > 0:\n",
    "\n",
    "        time.sleep(0.01)\n",
    "        print(trader.getWaitingListSize(), end = ' ')\n",
    "    print(f'\\n iter{i}: ')"
   ]
  },
  {
   "cell_type": "raw",
   "metadata": {},
   "source": [
    "print(order.size)"
   ]
  },
  {
   "cell_type": "code",
   "execution_count": null,
   "metadata": {},
   "outputs": [],
   "source": [
    "trader.cancelAllPendingOrders()"
   ]
  },
  {
   "cell_type": "raw",
   "metadata": {},
   "source": [
    "trader.cancal "
   ]
  },
  {
   "cell_type": "code",
   "execution_count": null,
   "metadata": {},
   "outputs": [],
   "source": [
    "for i in range(10000):\n",
    "    order = trader.getOrderBook(\"AAPL\", shift.OrderBookType.GLOBAL_ASK, 1)[0]\n",
    "    print([order.price, order.size, 'Ask'])\n",
    "    del order\n",
    "    time.sleep(1)"
   ]
  },
  {
   "cell_type": "code",
   "execution_count": null,
   "metadata": {},
   "outputs": [],
   "source": [
    "for i in range(10000):\n",
    "    print(trader.getBestPrice('AAPL').getBidPrice())\n",
    "    time.sleep(1)\n"
   ]
  },
  {
   "cell_type": "code",
   "execution_count": null,
   "metadata": {
    "scrolled": true
   },
   "outputs": [],
   "source": [
    "for i in range(200):\n",
    "    print(trader.getClosePrice('AAPL', True, 100), trader.getBestPrice('AAPL').getAskPrice())\n",
    "    time.sleep(1)"
   ]
  },
  {
   "cell_type": "code",
   "execution_count": null,
   "metadata": {},
   "outputs": [],
   "source": [
    "a = pd.DataFrame(columns = ['price', 'size', 'type'])\n",
    "idx = 0\n",
    "for order in trader.getOrderBook(\"AAPL\", shift.OrderBookType.GLOBAL_ASK, 5)[::-1]:\n",
    "    a.loc[idx] = [order.price, order.size, 'Ask']\n",
    "    idx += 1\n",
    "for order in trader.getOrderBook(\"AAPL\", shift.OrderBookType.GLOBAL_BID, 5):\n",
    "    a.loc[idx] = [order.price, order.size, 'Bid']\n",
    "    idx += 1\n",
    "print(a)"
   ]
  },
  {
   "cell_type": "code",
   "execution_count": null,
   "metadata": {},
   "outputs": [],
   "source": [
    "env.thread_alive = False"
   ]
  },
  {
   "cell_type": "code",
   "execution_count": null,
   "metadata": {},
   "outputs": [],
   "source": [
    "env.dataThread.is_alive()"
   ]
  },
  {
   "cell_type": "code",
   "execution_count": null,
   "metadata": {},
   "outputs": [],
   "source": [
    "env = TMP(trader, 1, 5, 1, 'AAPL')\n",
    "print('aaa')"
   ]
  },
  {
   "cell_type": "code",
   "execution_count": null,
   "metadata": {},
   "outputs": [],
   "source": [
    "del TMP"
   ]
  },
  {
   "cell_type": "code",
   "execution_count": null,
   "metadata": {},
   "outputs": [],
   "source": [
    "trader.getPortfolioSummary().getTimestamp()"
   ]
  },
  {
   "cell_type": "code",
   "execution_count": 12,
   "metadata": {},
   "outputs": [],
   "source": [
    "limitBuy = shift.Order(shift.Order.LIMIT_BUY, \"AAPL\", -5, 15)\n",
    "trader.submitOrder(limitBuy)"
   ]
  },
  {
   "cell_type": "code",
   "execution_count": 13,
   "metadata": {},
   "outputs": [
    {
     "name": "stdout",
     "output_type": "stream",
     "text": [
      "0\n"
     ]
    }
   ],
   "source": [
    "print(trader.getWaitingListSize())"
   ]
  },
  {
   "cell_type": "code",
   "execution_count": 25,
   "metadata": {},
   "outputs": [
    {
     "name": "stdout",
     "output_type": "stream",
     "text": [
      "Symbol\t\t\t\t\t Type\t  Price\t\tSize\tID\t\t\t\t\t\t\t\t\t\tTimestamp\n"
     ]
    }
   ],
   "source": [
    "print(\"Symbol\\t\\t\\t\\t\\t Type\\t  Price\\t\\tSize\\tID\\t\\t\\t\\t\\t\\t\\t\\t\\t\\tTimestamp\")\n",
    "for order in trader.getWaitingList():\n",
    "    print(\"%6s\\t%21s\\t%7.2f\\t\\t%4d\\t%36s\\t%26s\" %\n",
    "              (order.symbol, order.type, order.price, order.size, order.id, order.timestamp))"
   ]
  },
  {
   "cell_type": "code",
   "execution_count": 108,
   "metadata": {},
   "outputs": [
    {
     "name": "stdout",
     "output_type": "stream",
     "text": [
      "175.19 175.19\n",
      "175.19 175.19\n",
      "175.2 175.2\n",
      "175.2 175.2\n",
      "175.2 175.2\n",
      "175.2 175.2\n",
      "175.2 175.2\n",
      "175.2 175.2\n",
      "175.2 175.2\n",
      "175.2 175.2\n",
      "175.2 175.2\n",
      "175.2 175.2\n",
      "175.2 175.2\n",
      "175.21 175.21\n",
      "175.21 175.20999999999998\n",
      "175.21 175.20999999999998\n",
      "175.21 175.20999999999998\n",
      "175.2 175.2\n",
      "175.2 175.2\n",
      "175.2 175.2\n",
      "175.2 175.2\n",
      "175.2 175.2\n",
      "175.2 175.2\n",
      "175.2 175.2\n",
      "175.2 175.2\n",
      "175.2 175.2\n",
      "175.2 175.2\n",
      "175.2 175.2\n",
      "175.21 175.20999999999998\n",
      "175.2 175.2\n",
      "175.2 175.2\n",
      "175.2 175.2\n",
      "175.2 175.2\n",
      "175.2 175.2\n",
      "175.21 175.204\n",
      "175.21 175.20999999999998\n",
      "175.21 175.20999999999998\n",
      "175.21 175.20999999999998\n",
      "175.21 175.20999999999998\n",
      "175.21 175.20999999999998\n",
      "175.21 175.20999999999998\n",
      "175.21 175.20999999999998\n",
      "175.21 175.20999999999998\n",
      "175.21 175.20999999999998\n",
      "175.21 175.20999999999998\n",
      "175.21 175.20999999999998\n",
      "175.21 175.20999999999998\n",
      "175.21 175.20999999999998\n",
      "175.2 175.2\n",
      "175.2 175.2\n",
      "175.2 175.2\n",
      "175.2 175.2\n",
      "175.2 175.2\n",
      "175.2 175.2\n",
      "175.2 175.2\n",
      "175.2 175.2\n",
      "175.2 175.2\n",
      "175.2 175.2\n",
      "175.2 175.2\n",
      "175.21 175.204\n",
      "175.21 175.206\n",
      "175.2 175.2\n",
      "175.2 175.2\n",
      "175.2 175.2\n",
      "175.21 175.21\n",
      "175.21 175.20999999999998\n",
      "175.21 175.20999999999998\n",
      "175.21 175.20999999999998\n",
      "175.21 175.21\n",
      "175.21 175.21\n",
      "175.2 175.2\n",
      "175.2 175.2\n",
      "175.2 175.2\n",
      "175.2 175.2\n",
      "175.2 175.2\n",
      "175.2 175.2\n",
      "175.2 175.2\n",
      "175.2 175.2\n",
      "175.2 175.2\n",
      "175.2 175.2\n",
      "175.2 175.2\n",
      "175.2 175.2\n",
      "175.2 175.2\n",
      "175.2 175.2\n",
      "175.2 175.2\n",
      "175.2 175.2\n",
      "175.2 175.2\n",
      "175.2 175.2\n",
      "175.2 175.2\n",
      "175.21 175.20999999999998\n",
      "175.21 175.20999999999998\n",
      "175.21 175.20999999999998\n",
      "175.21 175.21\n",
      "175.21 175.21\n",
      "175.21 175.20999999999998\n",
      "175.21 175.20999999999998\n",
      "175.21 175.20999999999998\n",
      "175.21 175.20999999999998\n",
      "175.21 175.20999999999998\n",
      "175.21 175.20999999999998\n",
      "175.21 175.20999999999998\n",
      "175.2 175.2\n",
      "175.2 175.2\n",
      "175.2 175.2\n",
      "175.2 175.2\n",
      "175.19 175.19\n",
      "175.19 175.19\n",
      "175.19 175.19\n",
      "175.19 175.19\n",
      "175.19 175.19\n",
      "175.19 175.19\n",
      "175.19 175.19\n",
      "175.19 175.19\n",
      "175.19 175.19\n",
      "175.19 175.19\n",
      "175.19 175.19\n",
      "175.19 175.19\n",
      "175.19 175.19\n",
      "175.2 175.19599999999997\n",
      "175.2 175.2\n",
      "175.2 175.2\n",
      "175.2 175.2\n",
      "175.2 175.19599999999997\n",
      "175.2 175.19599999999997\n",
      "175.2 175.19599999999997\n",
      "175.2 175.19599999999997\n",
      "175.2 175.19599999999997\n",
      "175.2 175.19599999999997\n",
      "175.21 175.20999999999998\n",
      "175.21 175.20999999999998\n",
      "175.21 175.20999999999998\n",
      "175.21 175.20999999999998\n",
      "175.21 175.20999999999998\n",
      "175.21 175.20999999999998\n",
      "175.21 175.20999999999998\n",
      "175.21 175.20999999999998\n",
      "175.21 175.20999999999998\n",
      "175.21 175.21\n",
      "175.21 175.21\n",
      "175.21 175.21\n",
      "175.21 175.20999999999998\n",
      "175.21 175.21\n",
      "175.21 175.21\n",
      "175.21 175.21\n",
      "175.21 175.20999999999998\n",
      "175.21 175.20999999999998\n",
      "175.21 175.20999999999998\n",
      "175.21 175.20999999999998\n",
      "175.21 175.20999999999998\n",
      "175.21 175.20999999999998\n",
      "175.21 175.20999999999998\n",
      "175.21 175.20999999999998\n",
      "175.21 175.20999999999998\n"
     ]
    },
    {
     "ename": "KeyboardInterrupt",
     "evalue": "",
     "output_type": "error",
     "traceback": [
      "\u001b[0;31m---------------------------------------------------------------------------\u001b[0m",
      "\u001b[0;31mKeyboardInterrupt\u001b[0m                         Traceback (most recent call last)",
      "\u001b[0;32m<ipython-input-108-5040fdea9641>\u001b[0m in \u001b[0;36m<module>\u001b[0;34m\u001b[0m\n\u001b[1;32m      1\u001b[0m \u001b[0;32mfor\u001b[0m \u001b[0mi\u001b[0m \u001b[0;32min\u001b[0m \u001b[0mrange\u001b[0m\u001b[0;34m(\u001b[0m\u001b[0;36m1000\u001b[0m\u001b[0;34m)\u001b[0m\u001b[0;34m:\u001b[0m\u001b[0;34m\u001b[0m\u001b[0;34m\u001b[0m\u001b[0m\n\u001b[1;32m      2\u001b[0m     \u001b[0mprint\u001b[0m\u001b[0;34m(\u001b[0m\u001b[0mtrader\u001b[0m\u001b[0;34m.\u001b[0m\u001b[0mgetBestPrice\u001b[0m\u001b[0;34m(\u001b[0m\u001b[0;34m\"AAPL\"\u001b[0m\u001b[0;34m)\u001b[0m\u001b[0;34m.\u001b[0m\u001b[0mgetBidPrice\u001b[0m\u001b[0;34m(\u001b[0m\u001b[0;34m)\u001b[0m\u001b[0;34m,\u001b[0m \u001b[0mtrader\u001b[0m\u001b[0;34m.\u001b[0m\u001b[0mgetClosePrice\u001b[0m\u001b[0;34m(\u001b[0m\u001b[0;34m'AAPL'\u001b[0m\u001b[0;34m,\u001b[0m \u001b[0;32mFalse\u001b[0m\u001b[0;34m,\u001b[0m \u001b[0;36m5\u001b[0m\u001b[0;34m)\u001b[0m\u001b[0;34m)\u001b[0m\u001b[0;34m\u001b[0m\u001b[0;34m\u001b[0m\u001b[0m\n\u001b[0;32m----> 3\u001b[0;31m     \u001b[0mtime\u001b[0m\u001b[0;34m.\u001b[0m\u001b[0msleep\u001b[0m\u001b[0;34m(\u001b[0m\u001b[0;36m0.5\u001b[0m\u001b[0;34m)\u001b[0m\u001b[0;34m\u001b[0m\u001b[0;34m\u001b[0m\u001b[0m\n\u001b[0m",
      "\u001b[0;31mKeyboardInterrupt\u001b[0m: "
     ]
    }
   ],
   "source": [
    "for i in range(1000):\n",
    "    print(trader.getBestPrice(\"AAPL\").getBidPrice(), trader.getClosePrice('AAPL', False, 5))\n",
    "    time.sleep(0.5)"
   ]
  },
  {
   "cell_type": "code",
   "execution_count": null,
   "metadata": {},
   "outputs": [],
   "source": [
    "bp"
   ]
  },
  {
   "cell_type": "code",
   "execution_count": 85,
   "metadata": {},
   "outputs": [
    {
     "name": "stdout",
     "output_type": "stream",
     "text": [
      "824546.599999881\n"
     ]
    }
   ],
   "source": [
    "print(trader.getPortfolioSummary().getTotalBP())"
   ]
  },
  {
   "cell_type": "code",
   "execution_count": 8,
   "metadata": {},
   "outputs": [],
   "source": [
    "for item in trader.getPortfolioItems().values():\n",
    "    print((item.getSymbol(), item.getShares(), item.getPrice()))\n"
   ]
  },
  {
   "cell_type": "code",
   "execution_count": 7,
   "metadata": {},
   "outputs": [
    {
     "name": "stdout",
     "output_type": "stream",
     "text": [
      "0\n",
      "1000083.87142841\n"
     ]
    }
   ],
   "source": [
    "print(trader.getPortfolioItem('AAPL').getShares())\n",
    "print(trader.getPortfolioSummary().getTotalBP())"
   ]
  },
  {
   "cell_type": "code",
   "execution_count": 10,
   "metadata": {},
   "outputs": [],
   "source": [
    "trader.cancelAllPendingOrders()"
   ]
  },
  {
   "cell_type": "code",
   "execution_count": 9,
   "metadata": {},
   "outputs": [
    {
     "data": {
      "text/plain": [
       "True"
      ]
     },
     "execution_count": 9,
     "metadata": {},
     "output_type": "execute_result"
    }
   ],
   "source": [
    "trader.connect(\"initiator.cfg\", \"password\")"
   ]
  },
  {
   "cell_type": "code",
   "execution_count": 11,
   "metadata": {},
   "outputs": [],
   "source": [
    "share = trader.getPortfolioItem('AAPL').getShares()\n",
    "waitingStep = 0\n",
    "while share != 0:\n",
    "    print(share)\n",
    "    position = int(share/100)\n",
    "    orderType = shift.Order.MARKET_BUY if position < 0 else shift.Order.MARKET_SELL\n",
    "    order = shift.Order(orderType, 'AAPL', abs(position))\n",
    "    trader.submitOrder(order)\n",
    "    time.sleep(0.5)\n",
    "    share = trader.getPortfolioItem('AAPL').getShares()\n",
    "    waitingStep += 1\n",
    "    assert  waitingStep < 40"
   ]
  },
  {
   "cell_type": "code",
   "execution_count": 39,
   "metadata": {},
   "outputs": [
    {
     "data": {
      "text/plain": [
       "True"
      ]
     },
     "execution_count": 39,
     "metadata": {},
     "output_type": "execute_result"
    }
   ],
   "source": [
    "trader.disconnect()"
   ]
  },
  {
   "cell_type": "raw",
   "metadata": {},
   "source": [
    "trader.isConnected()"
   ]
  },
  {
   "cell_type": "code",
   "execution_count": null,
   "metadata": {},
   "outputs": [],
   "source": [
    "trader.unsubAllOrderBook()"
   ]
  }
 ],
 "metadata": {
  "kernelspec": {
   "display_name": "Python 3",
   "language": "python",
   "name": "python3"
  },
  "language_info": {
   "codemirror_mode": {
    "name": "ipython",
    "version": 3
   },
   "file_extension": ".py",
   "mimetype": "text/x-python",
   "name": "python",
   "nbconvert_exporter": "python",
   "pygments_lexer": "ipython3",
   "version": "3.6.7"
  }
 },
 "nbformat": 4,
 "nbformat_minor": 2
}
