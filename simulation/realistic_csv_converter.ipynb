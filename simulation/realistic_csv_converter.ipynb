{
 "cells": [
  {
   "cell_type": "code",
   "execution_count": 1,
   "metadata": {},
   "outputs": [],
   "source": [
    "import matplotlib\n",
    "from matplotlib import pyplot as plt\n",
    "from matplotlib.backends.backend_pdf import PdfPages\n",
    "import pandas as pd\n",
    "import numpy as np\n",
    "import statsmodels.api as sm\n",
    "import seaborn as sns\n",
    "import statsmodels\n",
    "from typing import Tuple, List\n",
    "import scipy\n",
    "import numpy as np\n",
    "import os"
   ]
  },
  {
   "cell_type": "code",
   "execution_count": 8,
   "metadata": {},
   "outputs": [],
   "source": [
    "lob = \"amzn_LOB.csv\"\n",
    "order = \"amzn_order.csv\"\n",
    "\n",
    "lob = pd.read_csv(lob)\n",
    "orders = pd.read_csv(order)"
   ]
  },
  {
   "cell_type": "code",
   "execution_count": 9,
   "metadata": {},
   "outputs": [
    {
     "data": {
      "text/plain": [
       "[0, 129, 149, 188, 189, 199, 220, 224, 269, 270]"
      ]
     },
     "execution_count": 9,
     "metadata": {},
     "output_type": "execute_result"
    }
   ],
   "source": [
    "last_time = 0\n",
    "time_index = []\n",
    "for i in range(len(orders[\"time\"])):\n",
    "    if last_time == 0 or (int(orders[\"time\"][i]) - last_time) == 1:\n",
    "        last_time = int(orders[\"time\"][i])\n",
    "        time_index.append(i)\n",
    "    elif int(orders[\"time\"][i]) - last_time > 1:\n",
    "        if int(orders[\"time\"][i-1] != last_time):\n",
    "            last_time = int(orders[\"time\"][i-1])\n",
    "            time_index.append(i-1)\n",
    "        else:\n",
    "            last_time = int(orders[\"time\"][i])\n",
    "            time_index.append(i)\n",
    "time_index[0:10]"
   ]
  },
  {
   "cell_type": "code",
   "execution_count": 10,
   "metadata": {},
   "outputs": [],
   "source": [
    "new_lob = lob.iloc[time_index].reset_index(drop=True)\n",
    "new_lob.to_csv(\"AMZN_LOB.csv\")"
   ]
  }
 ],
 "metadata": {
  "kernelspec": {
   "display_name": "Python 3",
   "language": "python",
   "name": "python3"
  },
  "language_info": {
   "codemirror_mode": {
    "name": "ipython",
    "version": 3
   },
   "file_extension": ".py",
   "mimetype": "text/x-python",
   "name": "python",
   "nbconvert_exporter": "python",
   "pygments_lexer": "ipython3",
   "version": "3.7.16"
  },
  "orig_nbformat": 4,
  "vscode": {
   "interpreter": {
    "hash": "9123f4c64fbf42be40c625341166dbedb6c30266727fd0c6968463ea870e3e63"
   }
  }
 },
 "nbformat": 4,
 "nbformat_minor": 2
}
